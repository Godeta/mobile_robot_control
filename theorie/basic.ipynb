{
 "cells": [
  {
   "cell_type": "markdown",
   "metadata": {},
   "source": [
    "# Mobile Robotics: Direct Geometric Model\n",
    "\n",
    "## 1. Fundamentals of Robot Kinematics\n",
    "\n",
    "### 1.1 Robot Configuration and Coordinate Systems\n",
    "\n",
    "In this notebook, we'll explore the geometric model of a differential drive robot using the e-Puck 2 as our reference platform.\n",
    "\n",
    "#### Robot Parameters:\n",
    "- Total Diameter: 71 mm\n",
    "- Wheel Radius: 20.5 mm\n",
    "- Axle Length: 52 mm"
   ]
  },
  {
   "cell_type": "code",
   "execution_count": null,
   "metadata": {},
   "outputs": [],
   "source": [
    "import numpy as np\n",
    "import matplotlib.pyplot as plt\n",
    "\n",
    "class DifferentialDriveRobot:\n",
    "    def __init__(self):\n",
    "        # Robot geometric parameters\n",
    "        self.wheel_radius = 0.0205  # meters\n",
    "        self.axle_length = 0.052  # meters\n",
    "        \n",
    "    def geometric_model(self, left_wheel_angle, right_wheel_angle):\n",
    "        \"\"\"\n",
    "        Calculate robot displacement using wheel rotations\n",
    "        \"\"\"\n",
    "        # Wheel displacement\n",
    "        left_displacement = left_wheel_angle * self.wheel_radius\n",
    "        right_displacement = right_wheel_angle * self.wheel_radius\n",
    "        \n",
    "        return left_displacement, right_displacement"
   ]
  },
  {
   "cell_type": "markdown",
   "metadata": {},
   "source": [
    "### 1.2 Deriving the Direct Geometric Model\n",
    "\n",
    "#### Fundamental Principles\n",
    "\n",
    "The direct geometric model describes how wheel rotations translate to robot motion. We'll derive this using:\n",
    "1. Wheel displacement calculations\n",
    "2. Trigonometric relationships\n",
    "3. Instantaneous Center of Rotation (ICR)"
   ]
  },
  {
   "cell_type": "code",
   "execution_count": null,
   "metadata": {},
   "outputs": [],
   "source": [
    "# Interactive Geometric Model Demonstration\n",
    "robot = DifferentialDriveRobot()\n",
    "\n",
    "# Example wheel rotations\n",
    "wheel_angles = np.linspace(0, np.pi, 100)\n",
    "\n",
    "# Store displacement results\n",
    "left_displacements = []\n",
    "right_displacements = []\n",
    "\n",
    "for angle in wheel_angles:\n",
    "    left_disp, right_disp = robot.geometric_model(angle, angle)\n",
    "    left_displacements.append(left_disp)\n",
    "    right_displacements.append(right_disp)"
   ]
  },
  {
   "cell_type": "markdown",
   "metadata": {},
   "source": [
    "### 1.3 Mathematical Derivation\n",
    "\n",
    "#### Wheel Displacement Equation\n",
    "\n",
    "The basic wheel displacement is calculated using the arc length formula:\n",
    "\n",
    "$s = r \\theta$\n",
    "\n",
    "Where:\n",
    "- $s$: Linear displacement\n",
    "- $r$: Wheel radius\n",
    "- $\\theta$: Wheel rotation angle\n",
    "\n",
    "#### Rotation Center and Angular Displacement\n",
    "\n",
    "For differential drive robots, the instantaneous center of rotation (ICR) depends on the difference between left and right wheel displacements.\n",
    "\n",
    "Key Equations:\n",
    "1. **Linear Velocity**: $v = \\frac{r(\\omega_r + \\omega_l)}{2}$\n",
    "2. **Angular Velocity**: $\\omega = \\frac{r(\\omega_r - \\omega_l)}{2d}$\n",
    "\n",
    "Where:\n",
    "- $\\omega_r$: Right wheel angular velocity\n",
    "- $\\omega_l$: Left wheel angular velocity\n",
    "- $d$: Distance between wheels (axle length)"
   ]
  },
  {
   "cell_type": "code",
   "execution_count": null,
   "metadata": {},
   "outputs": [],
   "source": [
    "# Visualization of Wheel Displacements\n",
    "plt.figure(figsize=(10, 6))\n",
    "plt.plot(wheel_angles, left_displacements, label='Left Wheel Displacement')\n",
    "plt.plot(wheel_angles, right_displacements, label='Right Wheel Displacement')\n",
    "plt.title('Wheel Displacement vs Rotation Angle')\n",
    "plt.xlabel('Rotation Angle (radians)')\n",
    "plt.ylabel('Displacement (meters)')\n",
    "plt.legend()\n",
    "plt.grid(True)\n",
    "plt.show()"
   ]
  },
  {
   "cell_type": "markdown",
   "metadata": {},
   "source": [
    "### 1.4 Geometric Interpretation\n",
    "\n",
    "#### Pythagorean Relationship\n",
    "\n",
    "The robot's motion can be understood through a geometric triangle:\n",
    "\n",
    "1. **Wheel Displacements**: Form the base of the triangle\n",
    "2. **Robot Displacement**: Hypotenuse of the triangle\n",
    "3. **Rotation Angle**: Determined by the triangle's geometry\n",
    "\n",
    "#### Key Observations\n",
    "\n",
    "- Equal wheel rotations: Straight-line motion\n",
    "- Different wheel rotations: Curved trajectory\n",
    "- Rotation direction depends on relative wheel speeds"
   ]
  },
  {
   "cell_type": "code",
   "execution_count": null,
   "metadata": {},
   "outputs": [],
   "source": [
    "# Demonstration of Different Wheel Rotation Scenarios\n",
    "def demonstrate_wheel_scenarios():\n",
    "    scenarios = [\n",
    "        (np.pi/4, np.pi/4),   # Equal rotation (straight line)\n",
    "        (np.pi/4, np.pi/2),   # Different rotation (curve)\n",
    "        (np.pi/2, np.pi/4)    # Reverse curve\n",
    "    ]\n",
    "    \n",
    "    plt.figure(figsize=(15, 5))\n",
    "    \n",
    "    for i, (left_angle, right_angle) in enumerate(scenarios, 1):\n",
    "        plt.subplot(1, 3, i)\n",
    "        \n",
    "        left_disp = left_angle * robot.wheel_radius\n",
    "        right_disp = right_angle * robot.wheel_radius\n",
    "        \n",
    "        plt.title(f'Scenario {i}')\n",
    "        plt.plot([0, left_disp], [0, 0], 'r-', label='Left Wheel')\n",
    "        plt.plot([0, right_disp], [0, robot.axle_length], 'b-', label='Right Wheel')\n",
    "        plt.xlabel('Displacement (m)')\n",
    "        plt.ylabel('Wheel Position')\n",
    "        plt.legend()\n",
    "        plt.grid(True)\n",
    "    \n",
    "    plt.tight_layout()\n",
    "    plt.show()\n",
    "\n",
    "demonstrate_wheel_scenarios()"
   ]
  },
  {
   "cell_type": "markdown",
   "metadata": {},
   "source": [
    "### Conclusion\n",
    "\n",
    "We've explored the direct geometric model of a differential drive robot by:\n",
    "1. Deriving wheel displacement equations\n",
    "2. Analyzing geometric relationships\n",
    "3. Visualizing different motion scenarios\n",
    "\n",
    "**Key Takeaways:**\n",
    "- Wheel rotations directly influence robot motion\n",
    "- Geometric relationships govern trajectory\n",
    "- Simple trigonometric principles explain complex robot kinematics\n",
    "\n",
    "**Next Steps:**\n",
    "- Explore inverse kinematic models\n",
    "- Study advanced trajectory planning\n",
    "- Implement real-world control algorithms"
   ]
  }
 ],
 "metadata": {
  "kernelspec": {
   "display_name": "myenv",
   "language": "python",
   "name": "python3"
  },
  "language_info": {
   "codemirror_mode": {
    "name": "ipython",
    "version": 3
   },
   "file_extension": ".py",
   "mimetype": "text/x-python",
   "name": "python",
   "nbconvert_exporter": "python",
   "pygments_lexer": "ipython3",
   "version": "3.13.0"
  }
 },
 "nbformat": 4,
 "nbformat_minor": 2
}
